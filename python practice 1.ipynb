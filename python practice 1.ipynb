{
 "cells": [
  {
   "cell_type": "code",
   "execution_count": 4,
   "metadata": {},
   "outputs": [],
   "source": [
    "def fizzbuzz(num):\n",
    "    if num % 3 == 0 and num% 5 == 0:\n",
    "        return \"FizzBuzz\"\n",
    "    if num % 3 == 0:\n",
    "        return \"Fizz\"\n",
    "    if num % 5 == 0:\n",
    "        return \"Buzz\"\n",
    "    "
   ]
  },
  {
   "cell_type": "code",
   "execution_count": 28,
   "metadata": {},
   "outputs": [],
   "source": [
    "def profit(dic):\n",
    "    keys = list(dic.keys())\n",
    "    c_p = dic[keys[0]]\n",
    "    s_p = dic[keys[1]]\n",
    "    return (s_p-c_p)*dic[keys[2]]"
   ]
  },
  {
   "cell_type": "code",
   "execution_count": 30,
   "metadata": {},
   "outputs": [
    {
     "data": {
      "text/plain": [
       "2251.0"
      ]
     },
     "execution_count": 30,
     "metadata": {},
     "output_type": "execute_result"
    }
   ],
   "source": [
    "profit({\n",
    "    \"cost price\": 32.99,\n",
    "    \"sell price\": 55.50,\n",
    "    \"Inventory\": 100})"
   ]
  },
  {
   "cell_type": "code",
   "execution_count": 131,
   "metadata": {},
   "outputs": [],
   "source": [
    "alpha = {\"a\":0,\"b\":2, \"c\":4, \"d\":6, \"e\":8, \"f\":10, \"g\":12, \"h\":14, \"i\":16, \"j\":18, \"k\":20, \"l\":22, \"m\":24, \"n\":1, \"o\":3, \"p\":5, \"q\":7, \"r\":9, \"s\":11, \"t\":13, \"u\":15, \"v\":17, \"w\":19, \"x\":21, \"y\":23, \"z\":25}\n",
    "abet = \"abcdefghijklmnopqrstuvwxyz\"\n"
   ]
  },
  {
   "cell_type": "code",
   "execution_count": 108,
   "metadata": {},
   "outputs": [],
   "source": [
    "def encrypt(word):\n",
    "    d = word[::-1]\n",
    "    if \" \" in d:\n",
    "        d = d.split(\" \")\n",
    "        d = d[0]+d[1]\n",
    "    for char in d:\n",
    "        alphachar = alpha[char]\n",
    "        d = d.replace(char, abet[alphachar])\n",
    "    if \"a\" in d.lower():\n",
    "        d = d.replace(\"a\", \"0\")\n",
    "    if \"e\" in d.lower():\n",
    "        d = d.replace(\"e\", \"1\")\n",
    "    if \"i\" in d.lower():\n",
    "        d = d.replace(\"i\", \"2\")\n",
    "    if \"o\" in d.lower():\n",
    "        d = d = d.replace(\"o\", \"3\")\n",
    "    if \"u\" in d.lower():\n",
    "        d = d.replace(\"u\", \"4\")\n",
    "    return d"
   ]
  },
  {
   "cell_type": "code",
   "execution_count": 140,
   "metadata": {},
   "outputs": [
    {
     "data": {
      "text/plain": [
       "'nj2cdj'"
      ]
     },
     "execution_count": 140,
     "metadata": {},
     "output_type": "execute_result"
    }
   ],
   "source": [
    "encrypt(\"robert\")"
   ]
  },
  {
   "cell_type": "code",
   "execution_count": 141,
   "metadata": {},
   "outputs": [],
   "source": [
    "def get_key(val): \n",
    "    for key, value in alpha.items(): \n",
    "         if val == value: \n",
    "            return key"
   ]
  },
  {
   "cell_type": "code",
   "execution_count": 142,
   "metadata": {},
   "outputs": [],
   "source": [
    "def decrypt(string):\n",
    "    d = string[::-1]\n",
    "    if \"0\" in d.lower():\n",
    "        d = d.replace(\"0\", \"a\")\n",
    "    if \"1\" in d.lower():\n",
    "        d = d.replace(\"1\", \"e\")\n",
    "    if \"2\" in d.lower():\n",
    "        d = d.replace(\"2\", \"i\")\n",
    "    if \"3\" in d.lower():\n",
    "        d = d = d.replace(\"3\", \"o\")\n",
    "    if \"4\" in d.lower():\n",
    "        d = d.replace(\"4\", \"u\")\n",
    "    for char in d:\n",
    "        alphasplit = abet.split(char)\n",
    "        num = len(alphasplit[0])\n",
    "        d = d.replace(char, get_key(num))\n",
    "    return d"
   ]
  },
  {
   "cell_type": "code",
   "execution_count": 144,
   "metadata": {},
   "outputs": [
    {
     "data": {
      "text/plain": [
       "'robert'"
      ]
     },
     "execution_count": 144,
     "metadata": {},
     "output_type": "execute_result"
    }
   ],
   "source": [
    "decrypt('nj2cdj')"
   ]
  },
  {
   "cell_type": "code",
   "execution_count": null,
   "metadata": {},
   "outputs": [],
   "source": []
  }
 ],
 "metadata": {
  "kernelspec": {
   "display_name": "Python 3",
   "language": "python",
   "name": "python3"
  },
  "language_info": {
   "codemirror_mode": {
    "name": "ipython",
    "version": 3
   },
   "file_extension": ".py",
   "mimetype": "text/x-python",
   "name": "python",
   "nbconvert_exporter": "python",
   "pygments_lexer": "ipython3",
   "version": "3.7.6"
  }
 },
 "nbformat": 4,
 "nbformat_minor": 4
}
